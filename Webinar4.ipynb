{
 "cells": [
  {
   "cell_type": "markdown",
   "id": "d624dce5",
   "metadata": {},
   "source": [
    "# Этап 3"
   ]
  },
  {
   "cell_type": "markdown",
   "id": "db581e71",
   "metadata": {},
   "source": [
    "## Цели этапа\n",
    "1. Сохранить код в Git-репозитории.\n",
    "2. Создать манифест ML Project. \n",
    "3. Запустить код обучения модели (протоколирование метрик и сохранение артефактов) из Git-репозитория.\n"
   ]
  },
  {
   "cell_type": "markdown",
   "id": "bd964044",
   "metadata": {},
   "source": [
    "## 1. Первый коммит в новый репозиторий\n",
    "Создадим новый репозиторий (в предыдущем оставим всё то, что касалось инфраструктуры для проведения экспериментов)\n",
    "\n",
    "Клонируйте свой репозиторий и сделайте коммит, содержащий ваш файл train.py. Зафиксируйте (push) ваш коммит на удалённом Git-сервере.\n"
   ]
  },
  {
   "cell_type": "markdown",
   "id": "1d7dac26",
   "metadata": {},
   "source": [
    "Клонируйте новый Git-репозиторий на свой локальный компьютер, используя команду:\n",
    "\n",
    "git clone <URL-репозитория>"
   ]
  },
  {
   "cell_type": "markdown",
   "id": "963f92cf",
   "metadata": {},
   "source": [
    "Перейдите в каталог репозитория:\n",
    "\n",
    "cd <имя-репозитория>"
   ]
  },
  {
   "cell_type": "markdown",
   "id": "7d4b43a6",
   "metadata": {},
   "source": [
    "Скопируйте файл train.py в каталог репозитория.\n",
    "Создайте новый коммит:\n",
    "\n",
    "git add train.py\n",
    "git commit -m \"Добавлен файл train.py\""
   ]
  },
  {
   "cell_type": "markdown",
   "id": "80ec3e1e",
   "metadata": {},
   "source": [
    "Отправьте коммит на удаленный сервер:\n",
    "\n",
    "git push"
   ]
  },
  {
   "cell_type": "code",
   "execution_count": null,
   "id": "1c02e503",
   "metadata": {},
   "outputs": [
    {
     "name": "stdout",
     "output_type": "stream",
     "text": [
      "--2023-10-01 11:32:48--  https://github.com/ilapro53/skillbox_mlflow_server/blob/main/train.py\n",
      "Resolving github.com (github.com)... 140.82.121.4\n",
      "Connecting to github.com (github.com)|140.82.121.4|:443... connected.\n",
      "HTTP request sent, awaiting response... 200 OK\n",
      "Length: 19836 (19K) [text/plain]\n",
      "Saving to: ‘train.py.1’\n",
      "\n",
      "train.py.1          100%[===================>]  19.37K  --.-KB/s    in 0.1s    \n",
      "\n",
      "2023-10-01 11:32:49 (159 KB/s) - ‘train.py.1’ saved [19836/19836]\n",
      "\n",
      "--2023-10-01 11:32:49--  http://train.py/\n",
      "Resolving train.py (train.py)... failed: Name or service not known.\n",
      "wget: unable to resolve host address ‘train.py’\n",
      "FINISHED --2023-10-01 11:32:50--\n",
      "Total wall clock time: 1.6s\n",
      "Downloaded: 1 files, 19K in 0.1s (159 KB/s)\n"
     ]
    }
   ],
   "source": [
    "!wget https://github.com/ilapro53/skillbox_mlflow_server/blob/main/train.py train.py"
   ]
  },
  {
   "cell_type": "markdown",
   "id": "3983535e",
   "metadata": {},
   "source": [
    "## 2. Создание манифеста MLflow Project"
   ]
  },
  {
   "cell_type": "code",
   "execution_count": 21,
   "id": "95e66eb8",
   "metadata": {},
   "outputs": [],
   "source": [
    "import os"
   ]
  },
  {
   "cell_type": "markdown",
   "id": "e68ffe94",
   "metadata": {},
   "source": [
    "Используйте код или воспользуйтесь текстовым редактором"
   ]
  },
  {
   "cell_type": "code",
   "execution_count": 22,
   "id": "6db2bd5b",
   "metadata": {},
   "outputs": [],
   "source": [
    "# В каталоге вашего проекта создайте файл с именем MLproject (без расширения файла).\n",
    "import os\n",
    "\n",
    "\n",
    "# Создание файлов внутри директорий\n",
    "open(\"MLproject\", \"w\").close()\n",
    "\n",
    "MLproject_content = \"\"\"\n",
    "name: kinopoisk\n",
    "\n",
    "conda_env: environment.yml\n",
    "\n",
    "entry_points:\n",
    "  main:\n",
    "    parameters:\n",
    "      data_file: {type: str, default: \"data/kinopoisk_train.csv\"}\n",
    "    command: \"python train.py {data_file}\"\n",
    "\n",
    "\"\"\"\n",
    "with open(\"MLproject\", \"w\") as file:\n",
    "    file.write(MLproject_content)"
   ]
  },
  {
   "cell_type": "markdown",
   "id": "5e3af826",
   "metadata": {},
   "source": [
    "## 3. Создание файла environment.yml"
   ]
  },
  {
   "cell_type": "markdown",
   "id": "78db1190",
   "metadata": {},
   "source": [
    "1. Создайте файл environment.yml в каталоге вашего проекта.\n",
    "2. Добавьте следующее содержимое в файл environment.yml:"
   ]
  },
  {
   "cell_type": "code",
   "execution_count": 18,
   "id": "e744ef21",
   "metadata": {},
   "outputs": [],
   "source": [
    "# Создание файлов внутри директорий\n",
    "open(\"environment.yml\", \"w\").close()\n",
    "enviroment_content = \"\"\"\n",
    "name: kinopoisk-env\n",
    "channels:\n",
    "  - defaults\n",
    "dependencies:\n",
    "  - python=3.10\n",
    "  - scikit-learn\n",
    "  - pandas\n",
    "  - mlflow\n",
    "  - boto3\n",
    "  - cryptography\n",
    "  - pymysql\n",
    "\n",
    "\"\"\"\n",
    "with open(\"environment.yml\", \"w\") as file:\n",
    "    file.write(enviroment_content)"
   ]
  },
  {
   "cell_type": "markdown",
   "id": "3e0d9a34",
   "metadata": {},
   "source": [
    "## 4. Запуск проекта с помощью MLflow"
   ]
  },
  {
   "cell_type": "markdown",
   "id": "643f76e9",
   "metadata": {},
   "source": [
    "В терминале, убедитесь, что вы находитесь в каталоге вашего проекта, и выполните следующую команду:\n",
    "\n",
    "mlflow run . --experiment-name=kinopoisk"
   ]
  },
  {
   "cell_type": "code",
   "execution_count": 20,
   "id": "6c192077",
   "metadata": {},
   "outputs": [
    {
     "name": "stderr",
     "output_type": "stream",
     "text": [
      "2023/10/01 11:56:05 INFO mlflow.utils.conda: Conda environment mlflow-a08b3666f1bb96e3544045549b2bd9a29b981491 already exists.\n",
      "2023/10/01 11:56:05 INFO mlflow.projects.utils: === Created directory /tmp/tmpnl7y9lyf for downloading remote URIs passed to arguments of type 'path' ===\n",
      "2023/10/01 11:56:05 INFO mlflow.projects.backend.local: === Running command 'source /root/anaconda3/bin/../etc/profile.d/conda.sh && conda activate mlflow-a08b3666f1bb96e3544045549b2bd9a29b981491 1>&2 && python train.py data/kinopoisk_train.csv' in run with ID 'f59b0cfa79f948e6aa94299add5959b4' === \n",
      "/root/anaconda3/envs/mlflow-a08b3666f1bb96e3544045549b2bd9a29b981491/lib/python3.10/site-packages/sklearn/linear_model/_logistic.py:460: ConvergenceWarning: lbfgs failed to converge (status=1):\n",
      "STOP: TOTAL NO. of ITERATIONS REACHED LIMIT.\n",
      "\n",
      "Increase the number of iterations (max_iter) or scale the data as shown in:\n",
      "    https://scikit-learn.org/stable/modules/preprocessing.html\n",
      "Please also refer to the documentation for alternative solver options:\n",
      "    https://scikit-learn.org/stable/modules/linear_model.html#logistic-regression\n",
      "  n_iter_i = _check_optimize_result(\n",
      "/root/anaconda3/envs/mlflow-a08b3666f1bb96e3544045549b2bd9a29b981491/lib/python3.10/site-packages/_distutils_hack/__init__.py:33: UserWarning: Setuptools is replacing distutils.\n",
      "  warnings.warn(\"Setuptools is replacing distutils.\")\n",
      "Registered model 'MyFirstModel' already exists. Creating a new version of this model...\n",
      "2023/10/01 11:57:53 INFO mlflow.tracking._model_registry.client: Waiting up to 300 seconds for model version to finish creation. Model name: MyFirstModel, version 7\n",
      "Created version '7' of model 'MyFirstModel'.\n"
     ]
    },
    {
     "name": "stdout",
     "output_type": "stream",
     "text": [
      "Инициализация клиента...\n",
      "Считывание данных...\n",
      "Векторизация...\n",
      "Обучение модели...\n",
      "Предсказание...\n",
      "Точность модели: 0.7605669450771957\n",
      "Баккит \"mlflow\" уже существует\n",
      "Настройка клиента boto3...\n",
      "Логирование в MLflow...\n",
      "Готово!\n"
     ]
    },
    {
     "name": "stderr",
     "output_type": "stream",
     "text": [
      "2023/10/01 11:57:54 INFO mlflow.projects: === Run (ID 'f59b0cfa79f948e6aa94299add5959b4') succeeded ===\n"
     ]
    },
    {
     "data": {
      "text/plain": [
       "0"
      ]
     },
     "execution_count": 20,
     "metadata": {},
     "output_type": "execute_result"
    }
   ],
   "source": [
    "# Установка переменных окружения в Unix-подобных системах (Mac, Linux)\n",
    "os.system('export MLFLOW_TRACKING_URI=http://localhost:5000')\n",
    "os.system('export MLFLOW_S3_ENDPOINT_URL=http://localhost:9000')\n",
    "\n",
    "# Установка переменных окружения в Windows\n",
    "os.environ['MLFLOW_TRACKING_URI'] = 'http://localhost:5000'\n",
    "os.environ['MLFLOW_S3_ENDPOINT_URL'] = 'http://localhost:9000'\n",
    "os.environ['AWS_ACCESS_KEY_ID'] = 'minio'\n",
    "os.environ['AWS_SECRET_ACCESS_KEY'] = 'minio123'\n",
    "\n",
    "os.system('mlflow run . --experiment-name=kinopoisk')"
   ]
  },
  {
   "cell_type": "markdown",
   "id": "8ed86e03",
   "metadata": {},
   "source": [
    "## 5. Проверка результатов\n",
    "\n",
    "Перейдите в веб-интерфейс MLflow по адресу http://localhost:5000/ (не забудьте изменить адрес по необходимости) и проверьте, что эксперимент kinopoisk был создан и что метрики были зарегистрированы."
   ]
  },
  {
   "cell_type": "markdown",
   "id": "b6f366bf",
   "metadata": {},
   "source": [
    "# Задание: \n",
    "\n",
    "Создайте новый коммит, содержащий все созданные файлы. Создайте новый Git-тег с именем stage3. Зафиксируйте все изменения на удалённом сервере.\n",
    "\n",
    "Требования:\n",
    "- Репозиторий содержит код эксперимента и манифест ML Project.\n",
    "- Проект запускается из манифеста ML Project и работает правильно.\n",
    "- На коммите стоит соответствующий тег.\n"
   ]
  },
  {
   "cell_type": "code",
   "execution_count": null,
   "id": "65915c3e",
   "metadata": {},
   "outputs": [],
   "source": []
  }
 ],
 "metadata": {
  "kernelspec": {
   "display_name": "Python 3 (ipykernel)",
   "language": "python",
   "name": "python3"
  },
  "language_info": {
   "codemirror_mode": {
    "name": "ipython",
    "version": 3
   },
   "file_extension": ".py",
   "mimetype": "text/x-python",
   "name": "python",
   "nbconvert_exporter": "python",
   "pygments_lexer": "ipython3",
   "version": "3.11.4"
  }
 },
 "nbformat": 4,
 "nbformat_minor": 5
}
